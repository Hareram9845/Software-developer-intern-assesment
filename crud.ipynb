{
 "cells": [
  {
   "cell_type": "code",
   "execution_count": null,
   "metadata": {
    "vscode": {
     "languageId": "plaintext"
    }
   },
   "outputs": [],
   "source": [
    "# Create operation\n",
    "def create_registration(conn, name, email, dob, phone):\n",
    "    try:\n",
    "        cursor = conn.cursor()\n",
    "        query = \"INSERT INTO Registration (Name, Email, DateOfBirth, PhoneNumber) VALUES (%s, %s, %s, %s)\"\n",
    "        cursor.execute(query, (name, email, dob, phone))\n",
    "        conn.commit()\n",
    "        print(\"Record added successfully.\")\n",
    "    except Exception as e:\n",
    "        print(f\"Error: {e}\")\n"
   ]
  },
  {
   "cell_type": "code",
   "execution_count": null,
   "metadata": {
    "vscode": {
     "languageId": "plaintext"
    }
   },
   "outputs": [],
   "source": [
    "#Read operation\n",
    "def read_registration(conn, id):\n",
    "    try:\n",
    "        cursor = conn.cursor()\n",
    "        query = \"SELECT * FROM Registration WHERE ID = %s\"\n",
    "        cursor.execute(query, (id,))\n",
    "        result = cursor.fetchone()\n",
    "        print(result)\n",
    "    except Exception as e:\n",
    "        print(f\"Error: {e}\")\n"
   ]
  },
  {
   "cell_type": "code",
   "execution_count": null,
   "metadata": {
    "vscode": {
     "languageId": "plaintext"
    }
   },
   "outputs": [],
   "source": [
    "#update operation\n",
    "def update_registration(conn, id, email):\n",
    "    try:\n",
    "        cursor = conn.cursor()\n",
    "        query = \"UPDATE Registration SET Email = %s WHERE ID = %s\"\n",
    "        cursor.execute(query, (email, id))\n",
    "        conn.commit()\n",
    "        print(\"Record updated successfully.\")\n",
    "    except Exception as e:\n",
    "        print(f\"Error: {e}\")\n"
   ]
  },
  {
   "cell_type": "code",
   "execution_count": null,
   "metadata": {
    "vscode": {
     "languageId": "plaintext"
    }
   },
   "outputs": [],
   "source": [
    "#delete operation\n",
    "def delete_registration(conn, id):\n",
    "    try:\n",
    "        cursor = conn.cursor()\n",
    "        query = \"DELETE FROM Registration WHERE ID = %s\"\n",
    "        cursor.execute(query, (id,))\n",
    "        conn.commit()\n",
    "        print(\"Record deleted successfully.\")\n",
    "    except Exception as e:\n",
    "        print(f\"Error: {e}\")\n"
   ]
  }
 ],
 "metadata": {
  "language_info": {
   "name": "python"
  }
 },
 "nbformat": 4,
 "nbformat_minor": 2
}
